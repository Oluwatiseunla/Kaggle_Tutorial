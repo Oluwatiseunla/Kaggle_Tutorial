{
 "cells": [
  {
   "cell_type": "markdown",
   "metadata": {},
   "source": [
    "**Import Libraries**"
   ]
  },
  {
   "cell_type": "code",
   "execution_count": 107,
   "metadata": {},
   "outputs": [],
   "source": [
    "import numpy as np\n",
    "import pandas as pd\n",
    "from sklearn.preprocessing import StandardScaler\n",
    "from sklearn.preprocessing import LabelEncoder\n",
    "from sklearn.compose import ColumnTransformer\n",
    "from sklearn.preprocessing import OneHotEncoder\n",
    "import matplotlib.pyplot as plt\n",
    "import seaborn as sns\n",
    "import warnings\n",
    "warnings.filterwarnings(\"ignore\")\n",
    "from sklearn.linear_model import LogisticRegression"
   ]
  },
  {
   "cell_type": "markdown",
   "metadata": {},
   "source": [
    "**Read data**"
   ]
  },
  {
   "cell_type": "code",
   "execution_count": 108,
   "metadata": {},
   "outputs": [
    {
     "data": {
      "text/html": [
       "<div>\n",
       "<style scoped>\n",
       "    .dataframe tbody tr th:only-of-type {\n",
       "        vertical-align: middle;\n",
       "    }\n",
       "\n",
       "    .dataframe tbody tr th {\n",
       "        vertical-align: top;\n",
       "    }\n",
       "\n",
       "    .dataframe thead th {\n",
       "        text-align: right;\n",
       "    }\n",
       "</style>\n",
       "<table border=\"1\" class=\"dataframe\">\n",
       "  <thead>\n",
       "    <tr style=\"text-align: right;\">\n",
       "      <th></th>\n",
       "      <th>id</th>\n",
       "      <th>Gender</th>\n",
       "      <th>Age</th>\n",
       "      <th>Driving_License</th>\n",
       "      <th>Region_Code</th>\n",
       "      <th>Previously_Insured</th>\n",
       "      <th>Vehicle_Age</th>\n",
       "      <th>Vehicle_Damage</th>\n",
       "      <th>Annual_Premium</th>\n",
       "      <th>Policy_Sales_Channel</th>\n",
       "      <th>Vintage</th>\n",
       "      <th>Response</th>\n",
       "    </tr>\n",
       "  </thead>\n",
       "  <tbody>\n",
       "    <tr>\n",
       "      <th>0</th>\n",
       "      <td>0</td>\n",
       "      <td>Male</td>\n",
       "      <td>21</td>\n",
       "      <td>1</td>\n",
       "      <td>35.0</td>\n",
       "      <td>0</td>\n",
       "      <td>1-2 Year</td>\n",
       "      <td>Yes</td>\n",
       "      <td>65101.0</td>\n",
       "      <td>124.0</td>\n",
       "      <td>187</td>\n",
       "      <td>0</td>\n",
       "    </tr>\n",
       "    <tr>\n",
       "      <th>1</th>\n",
       "      <td>1</td>\n",
       "      <td>Male</td>\n",
       "      <td>43</td>\n",
       "      <td>1</td>\n",
       "      <td>28.0</td>\n",
       "      <td>0</td>\n",
       "      <td>&gt; 2 Years</td>\n",
       "      <td>Yes</td>\n",
       "      <td>58911.0</td>\n",
       "      <td>26.0</td>\n",
       "      <td>288</td>\n",
       "      <td>1</td>\n",
       "    </tr>\n",
       "    <tr>\n",
       "      <th>2</th>\n",
       "      <td>2</td>\n",
       "      <td>Female</td>\n",
       "      <td>25</td>\n",
       "      <td>1</td>\n",
       "      <td>14.0</td>\n",
       "      <td>1</td>\n",
       "      <td>&lt; 1 Year</td>\n",
       "      <td>No</td>\n",
       "      <td>38043.0</td>\n",
       "      <td>152.0</td>\n",
       "      <td>254</td>\n",
       "      <td>0</td>\n",
       "    </tr>\n",
       "    <tr>\n",
       "      <th>3</th>\n",
       "      <td>3</td>\n",
       "      <td>Female</td>\n",
       "      <td>35</td>\n",
       "      <td>1</td>\n",
       "      <td>1.0</td>\n",
       "      <td>0</td>\n",
       "      <td>1-2 Year</td>\n",
       "      <td>Yes</td>\n",
       "      <td>2630.0</td>\n",
       "      <td>156.0</td>\n",
       "      <td>76</td>\n",
       "      <td>0</td>\n",
       "    </tr>\n",
       "    <tr>\n",
       "      <th>4</th>\n",
       "      <td>4</td>\n",
       "      <td>Female</td>\n",
       "      <td>36</td>\n",
       "      <td>1</td>\n",
       "      <td>15.0</td>\n",
       "      <td>1</td>\n",
       "      <td>1-2 Year</td>\n",
       "      <td>No</td>\n",
       "      <td>31951.0</td>\n",
       "      <td>152.0</td>\n",
       "      <td>294</td>\n",
       "      <td>0</td>\n",
       "    </tr>\n",
       "  </tbody>\n",
       "</table>\n",
       "</div>"
      ],
      "text/plain": [
       "   id  Gender  Age  Driving_License  Region_Code  Previously_Insured  \\\n",
       "0   0    Male   21                1         35.0                   0   \n",
       "1   1    Male   43                1         28.0                   0   \n",
       "2   2  Female   25                1         14.0                   1   \n",
       "3   3  Female   35                1          1.0                   0   \n",
       "4   4  Female   36                1         15.0                   1   \n",
       "\n",
       "  Vehicle_Age Vehicle_Damage  Annual_Premium  Policy_Sales_Channel  Vintage  \\\n",
       "0    1-2 Year            Yes         65101.0                 124.0      187   \n",
       "1   > 2 Years            Yes         58911.0                  26.0      288   \n",
       "2    < 1 Year             No         38043.0                 152.0      254   \n",
       "3    1-2 Year            Yes          2630.0                 156.0       76   \n",
       "4    1-2 Year             No         31951.0                 152.0      294   \n",
       "\n",
       "   Response  \n",
       "0         0  \n",
       "1         1  \n",
       "2         0  \n",
       "3         0  \n",
       "4         0  "
      ]
     },
     "execution_count": 108,
     "metadata": {},
     "output_type": "execute_result"
    }
   ],
   "source": [
    "train = pd.read_csv(r\"C:\\Users\\DSN\\Downloads\\playground-series-s4e7\\train.csv\")\n",
    "test =  pd.read_csv(r\"C:\\Users\\DSN\\Downloads\\playground-series-s4e7\\test.csv\")\n",
    "train.head()"
   ]
  },
  {
   "cell_type": "code",
   "execution_count": 109,
   "metadata": {},
   "outputs": [],
   "source": [
    "test_id =test['id']"
   ]
  },
  {
   "cell_type": "markdown",
   "metadata": {},
   "source": [
    "***Running Data Diagoistics***\\\n",
    "**Data Shape**"
   ]
  },
  {
   "cell_type": "code",
   "execution_count": 110,
   "metadata": {},
   "outputs": [
    {
     "data": {
      "text/plain": [
       "(11504798, 12)"
      ]
     },
     "execution_count": 110,
     "metadata": {},
     "output_type": "execute_result"
    }
   ],
   "source": [
    "#check the shape\n",
    "train.shape"
   ]
  },
  {
   "cell_type": "code",
   "execution_count": 111,
   "metadata": {},
   "outputs": [
    {
     "name": "stdout",
     "output_type": "stream",
     "text": [
      "<class 'pandas.core.frame.DataFrame'>\n",
      "RangeIndex: 11504798 entries, 0 to 11504797\n",
      "Data columns (total 12 columns):\n",
      " #   Column                Dtype  \n",
      "---  ------                -----  \n",
      " 0   id                    int64  \n",
      " 1   Gender                object \n",
      " 2   Age                   int64  \n",
      " 3   Driving_License       int64  \n",
      " 4   Region_Code           float64\n",
      " 5   Previously_Insured    int64  \n",
      " 6   Vehicle_Age           object \n",
      " 7   Vehicle_Damage        object \n",
      " 8   Annual_Premium        float64\n",
      " 9   Policy_Sales_Channel  float64\n",
      " 10  Vintage               int64  \n",
      " 11  Response              int64  \n",
      "dtypes: float64(3), int64(6), object(3)\n",
      "memory usage: 1.0+ GB\n"
     ]
    }
   ],
   "source": [
    "#check columns information\n",
    "train.info()"
   ]
  },
  {
   "cell_type": "markdown",
   "metadata": {},
   "source": [
    "**Missing values**"
   ]
  },
  {
   "cell_type": "code",
   "execution_count": 112,
   "metadata": {},
   "outputs": [],
   "source": [
    "#missing values\n",
    "# train.isnull().sum()"
   ]
  },
  {
   "cell_type": "markdown",
   "metadata": {},
   "source": [
    "**Check Duplicates**"
   ]
  },
  {
   "cell_type": "code",
   "execution_count": 113,
   "metadata": {},
   "outputs": [],
   "source": [
    "#check duplicates\n",
    "#train.duplicated().sum()"
   ]
  },
  {
   "cell_type": "markdown",
   "metadata": {},
   "source": [
    "**Check Unique Categorical Data**"
   ]
  },
  {
   "cell_type": "code",
   "execution_count": 114,
   "metadata": {},
   "outputs": [
    {
     "name": "stdout",
     "output_type": "stream",
     "text": [
      "Gender\n",
      "Male      6228134\n",
      "Female    5276664\n",
      "Name: count, dtype: int64\n",
      "\n",
      "Vehicle_Age\n",
      "1-2 Year     5982678\n",
      "< 1 Year     5044145\n",
      "> 2 Years     477975\n",
      "Name: count, dtype: int64\n",
      "\n",
      "Vehicle_Damage\n",
      "Yes    5783229\n",
      "No     5721569\n",
      "Name: count, dtype: int64\n",
      "\n"
     ]
    }
   ],
   "source": [
    "for i in train.select_dtypes(include = \"object\").columns:\n",
    "    print (train[i].value_counts())\n",
    "    print()"
   ]
  },
  {
   "cell_type": "markdown",
   "metadata": {},
   "source": [
    "**Exploratory Data Analysis**"
   ]
  },
  {
   "cell_type": "code",
   "execution_count": 115,
   "metadata": {},
   "outputs": [],
   "source": [
    "#train.describe()"
   ]
  },
  {
   "cell_type": "code",
   "execution_count": 116,
   "metadata": {},
   "outputs": [],
   "source": [
    "#train.describe(include= object)"
   ]
  },
  {
   "cell_type": "code",
   "execution_count": 117,
   "metadata": {},
   "outputs": [],
   "source": [
    "#sns.pairplot(train.iloc[:,1:5])"
   ]
  },
  {
   "cell_type": "code",
   "execution_count": 118,
   "metadata": {},
   "outputs": [
    {
     "data": {
      "text/plain": [
       "'for column in train.select_dtypes(include =\"number\").columns:\\n    sns.histplot(data= train, x = column)\\n    plt.figure(figsize =(5,5))\\n    plt.show()'"
      ]
     },
     "execution_count": 118,
     "metadata": {},
     "output_type": "execute_result"
    }
   ],
   "source": [
    "\n",
    "\"\"\"for column in train.select_dtypes(include =\"number\").columns:\n",
    "    sns.histplot(data= train, x = column)\n",
    "    plt.figure(figsize =(5,5))\n",
    "    plt.show()\"\"\""
   ]
  },
  {
   "cell_type": "code",
   "execution_count": 119,
   "metadata": {},
   "outputs": [],
   "source": [
    "# check outliers using boxplot\n",
    "\n",
    "#for column in data.select_dtypes(include =\"number\").columns:\n",
    "#    sns.boxplot(data= train, x = column)\n",
    "#  plt.figure(figsize =(2,3))\n",
    "#    plt.show()"
   ]
  },
  {
   "cell_type": "code",
   "execution_count": 120,
   "metadata": {},
   "outputs": [
    {
     "data": {
      "text/plain": [
       "Index(['id', 'Age', 'Driving_License', 'Region_Code', 'Previously_Insured',\n",
       "       'Annual_Premium', 'Policy_Sales_Channel', 'Vintage', 'Response'],\n",
       "      dtype='object')"
      ]
     },
     "execution_count": 120,
     "metadata": {},
     "output_type": "execute_result"
    }
   ],
   "source": [
    "# to understand relationship using scatter plot with the target variable\n",
    " \n",
    "\n",
    "train.select_dtypes(include= 'number').columns"
   ]
  },
  {
   "cell_type": "code",
   "execution_count": 121,
   "metadata": {},
   "outputs": [
    {
     "data": {
      "text/plain": [
       "\" \\nfor column in ['id', 'Age', 'Driving_License', 'Region_Code', 'Previously_Insured',\\n       'Annual_Premium', 'Policy_Sales_Channel', 'Vintage', ]:\\n    sns.scatterplot(data = train, x= column, y ='Response')\\n    plt.figure(figsize =(2,3))\\n    plt.show()\\n    \""
      ]
     },
     "execution_count": 121,
     "metadata": {},
     "output_type": "execute_result"
    }
   ],
   "source": [
    "\"\"\" \n",
    "for column in ['id', 'Age', 'Driving_License', 'Region_Code', 'Previously_Insured',\n",
    "       'Annual_Premium', 'Policy_Sales_Channel', 'Vintage', ]:\n",
    "    sns.scatterplot(data = train, x= column, y ='Response')\n",
    "    plt.figure(figsize =(2,3))\n",
    "    plt.show()\n",
    "    \"\"\""
   ]
  },
  {
   "cell_type": "code",
   "execution_count": 122,
   "metadata": {},
   "outputs": [],
   "source": [
    "# check correlation\n",
    "\n",
    "s = train.select_dtypes(include ='number').corr()"
   ]
  },
  {
   "cell_type": "code",
   "execution_count": 123,
   "metadata": {},
   "outputs": [
    {
     "data": {
      "text/plain": [
       "' plt.figure( figsize=(15,15))\\nsns.heatmap(s, annot=True)'"
      ]
     },
     "execution_count": 123,
     "metadata": {},
     "output_type": "execute_result"
    }
   ],
   "source": [
    "\"\"\" plt.figure( figsize=(15,15))\n",
    "sns.heatmap(s, annot=True)\"\"\""
   ]
  },
  {
   "cell_type": "code",
   "execution_count": 129,
   "metadata": {},
   "outputs": [],
   "source": [
    "def clean(data):\n",
    "\n",
    "    def outlier(col):\n",
    "        q1,q3 = np.percentile(col,[25,75])\n",
    "        inter_q =q3-q1\n",
    "        lb = q1 - 1.5 * inter_q\n",
    "        ub = q3 + 1.5 * inter_q\n",
    "        return lb, ub\n",
    "    \n",
    "        outlier(data['Annual_Premium'])\n",
    "        lb,ub = outlier( data['Annual_Premium'])\n",
    "        data['Annual_Premium'] = np.where(data['Annual_Premium'] < lb, lb, data['Annual_Premium'])\n",
    "        data['Annual_Premium'] = np.where(data['Annual_Premium']>ub, ub,data['Annual_Premium'])\n",
    "\n",
    "    data = data.drop([\"id\", 'Driving_License','Policy_Sales_Channel'], axis = 1)\n",
    "\n",
    "    cat_column = ['Gender','Vehicle_Damage']\n",
    "    \n",
    "\n",
    "    for col in cat_column:\n",
    "        le= LabelEncoder()\n",
    "        data[col] = le.fit_transform(data[col])\n",
    "        \n",
    "    one_hot = pd.get_dummies(data=data['Vehicle_Age'], dtype=int)\n",
    "    data = data.join(one_hot, on= None,  how ='left')\n",
    "    data = data.drop('Vehicle_Age', axis= 1)\n",
    "\n",
    "    from sklearn.preprocessing import StandardScaler\n",
    "    sc = StandardScaler()\n",
    "\n",
    "    scale_col = ['Age', 'Region_Code','Annual_Premium', 'Vintage']\n",
    "    for cols in scale_col:\n",
    "        data[cols] = sc.fit_transform(data[cols].values.reshape(-1, 1))\n",
    "    return data\n",
    "  \n",
    "train = clean(train)\n",
    "test = clean(test)"
   ]
  },
  {
   "cell_type": "code",
   "execution_count": 130,
   "metadata": {},
   "outputs": [
    {
     "data": {
      "text/html": [
       "<div>\n",
       "<style scoped>\n",
       "    .dataframe tbody tr th:only-of-type {\n",
       "        vertical-align: middle;\n",
       "    }\n",
       "\n",
       "    .dataframe tbody tr th {\n",
       "        vertical-align: top;\n",
       "    }\n",
       "\n",
       "    .dataframe thead th {\n",
       "        text-align: right;\n",
       "    }\n",
       "</style>\n",
       "<table border=\"1\" class=\"dataframe\">\n",
       "  <thead>\n",
       "    <tr style=\"text-align: right;\">\n",
       "      <th></th>\n",
       "      <th>Gender</th>\n",
       "      <th>Age</th>\n",
       "      <th>Region_Code</th>\n",
       "      <th>Previously_Insured</th>\n",
       "      <th>Vehicle_Damage</th>\n",
       "      <th>Annual_Premium</th>\n",
       "      <th>Vintage</th>\n",
       "      <th>1-2 Year</th>\n",
       "      <th>&lt; 1 Year</th>\n",
       "      <th>&gt; 2 Years</th>\n",
       "    </tr>\n",
       "  </thead>\n",
       "  <tbody>\n",
       "    <tr>\n",
       "      <th>0</th>\n",
       "      <td>0</td>\n",
       "      <td>-1.226132</td>\n",
       "      <td>1.583259</td>\n",
       "      <td>0</td>\n",
       "      <td>0</td>\n",
       "      <td>-1.692555</td>\n",
       "      <td>0.801411</td>\n",
       "      <td>0</td>\n",
       "      <td>1</td>\n",
       "      <td>0</td>\n",
       "    </tr>\n",
       "    <tr>\n",
       "      <th>1</th>\n",
       "      <td>1</td>\n",
       "      <td>0.573928</td>\n",
       "      <td>0.121083</td>\n",
       "      <td>0</td>\n",
       "      <td>1</td>\n",
       "      <td>0.426701</td>\n",
       "      <td>-0.511344</td>\n",
       "      <td>1</td>\n",
       "      <td>0</td>\n",
       "      <td>0</td>\n",
       "    </tr>\n",
       "    <tr>\n",
       "      <th>2</th>\n",
       "      <td>1</td>\n",
       "      <td>0.573928</td>\n",
       "      <td>1.275433</td>\n",
       "      <td>0</td>\n",
       "      <td>1</td>\n",
       "      <td>-1.692555</td>\n",
       "      <td>1.339016</td>\n",
       "      <td>1</td>\n",
       "      <td>0</td>\n",
       "      <td>0</td>\n",
       "    </tr>\n",
       "    <tr>\n",
       "      <th>3</th>\n",
       "      <td>0</td>\n",
       "      <td>-1.092794</td>\n",
       "      <td>1.583259</td>\n",
       "      <td>1</td>\n",
       "      <td>0</td>\n",
       "      <td>-0.362616</td>\n",
       "      <td>-0.611364</td>\n",
       "      <td>0</td>\n",
       "      <td>1</td>\n",
       "      <td>0</td>\n",
       "    </tr>\n",
       "    <tr>\n",
       "      <th>4</th>\n",
       "      <td>1</td>\n",
       "      <td>0.840603</td>\n",
       "      <td>-0.571527</td>\n",
       "      <td>0</td>\n",
       "      <td>0</td>\n",
       "      <td>0.221908</td>\n",
       "      <td>-0.198783</td>\n",
       "      <td>1</td>\n",
       "      <td>0</td>\n",
       "      <td>0</td>\n",
       "    </tr>\n",
       "    <tr>\n",
       "      <th>...</th>\n",
       "      <td>...</td>\n",
       "      <td>...</td>\n",
       "      <td>...</td>\n",
       "      <td>...</td>\n",
       "      <td>...</td>\n",
       "      <td>...</td>\n",
       "      <td>...</td>\n",
       "      <td>...</td>\n",
       "      <td>...</td>\n",
       "      <td>...</td>\n",
       "    </tr>\n",
       "    <tr>\n",
       "      <th>7669861</th>\n",
       "      <td>1</td>\n",
       "      <td>1.240616</td>\n",
       "      <td>0.121083</td>\n",
       "      <td>0</td>\n",
       "      <td>1</td>\n",
       "      <td>1.288803</td>\n",
       "      <td>-0.686378</td>\n",
       "      <td>1</td>\n",
       "      <td>0</td>\n",
       "      <td>0</td>\n",
       "    </tr>\n",
       "    <tr>\n",
       "      <th>7669862</th>\n",
       "      <td>1</td>\n",
       "      <td>-0.692781</td>\n",
       "      <td>1.814129</td>\n",
       "      <td>1</td>\n",
       "      <td>0</td>\n",
       "      <td>-0.292750</td>\n",
       "      <td>0.251304</td>\n",
       "      <td>0</td>\n",
       "      <td>1</td>\n",
       "      <td>0</td>\n",
       "    </tr>\n",
       "    <tr>\n",
       "      <th>7669863</th>\n",
       "      <td>1</td>\n",
       "      <td>0.573928</td>\n",
       "      <td>0.505866</td>\n",
       "      <td>1</td>\n",
       "      <td>0</td>\n",
       "      <td>-1.692555</td>\n",
       "      <td>-1.261490</td>\n",
       "      <td>1</td>\n",
       "      <td>0</td>\n",
       "      <td>0</td>\n",
       "    </tr>\n",
       "    <tr>\n",
       "      <th>7669864</th>\n",
       "      <td>1</td>\n",
       "      <td>-0.559443</td>\n",
       "      <td>0.121083</td>\n",
       "      <td>0</td>\n",
       "      <td>1</td>\n",
       "      <td>0.510796</td>\n",
       "      <td>-0.561354</td>\n",
       "      <td>0</td>\n",
       "      <td>1</td>\n",
       "      <td>0</td>\n",
       "    </tr>\n",
       "    <tr>\n",
       "      <th>7669865</th>\n",
       "      <td>1</td>\n",
       "      <td>-1.026125</td>\n",
       "      <td>1.506303</td>\n",
       "      <td>1</td>\n",
       "      <td>0</td>\n",
       "      <td>-0.180442</td>\n",
       "      <td>-1.061451</td>\n",
       "      <td>0</td>\n",
       "      <td>1</td>\n",
       "      <td>0</td>\n",
       "    </tr>\n",
       "  </tbody>\n",
       "</table>\n",
       "<p>7669866 rows × 10 columns</p>\n",
       "</div>"
      ],
      "text/plain": [
       "         Gender       Age  Region_Code  Previously_Insured  Vehicle_Damage  \\\n",
       "0             0 -1.226132     1.583259                   0               0   \n",
       "1             1  0.573928     0.121083                   0               1   \n",
       "2             1  0.573928     1.275433                   0               1   \n",
       "3             0 -1.092794     1.583259                   1               0   \n",
       "4             1  0.840603    -0.571527                   0               0   \n",
       "...         ...       ...          ...                 ...             ...   \n",
       "7669861       1  1.240616     0.121083                   0               1   \n",
       "7669862       1 -0.692781     1.814129                   1               0   \n",
       "7669863       1  0.573928     0.505866                   1               0   \n",
       "7669864       1 -0.559443     0.121083                   0               1   \n",
       "7669865       1 -1.026125     1.506303                   1               0   \n",
       "\n",
       "         Annual_Premium   Vintage  1-2 Year  < 1 Year  > 2 Years  \n",
       "0             -1.692555  0.801411         0         1          0  \n",
       "1              0.426701 -0.511344         1         0          0  \n",
       "2             -1.692555  1.339016         1         0          0  \n",
       "3             -0.362616 -0.611364         0         1          0  \n",
       "4              0.221908 -0.198783         1         0          0  \n",
       "...                 ...       ...       ...       ...        ...  \n",
       "7669861        1.288803 -0.686378         1         0          0  \n",
       "7669862       -0.292750  0.251304         0         1          0  \n",
       "7669863       -1.692555 -1.261490         1         0          0  \n",
       "7669864        0.510796 -0.561354         0         1          0  \n",
       "7669865       -0.180442 -1.061451         0         1          0  \n",
       "\n",
       "[7669866 rows x 10 columns]"
      ]
     },
     "execution_count": 130,
     "metadata": {},
     "output_type": "execute_result"
    }
   ],
   "source": [
    "test"
   ]
  },
  {
   "cell_type": "markdown",
   "metadata": {},
   "source": [
    "**Split Data**"
   ]
  },
  {
   "cell_type": "code",
   "execution_count": 132,
   "metadata": {},
   "outputs": [],
   "source": [
    "X = train[['Gender', 'Age', 'Region_Code', 'Previously_Insured',\n",
    "       'Vehicle_Damage', 'Annual_Premium', 'Vintage',\n",
    "       '1-2 Year', '< 1 Year', '> 2 Years']]\n",
    "y = train['Response'].values\n",
    "\n",
    "from sklearn.model_selection import train_test_split\n",
    "X_train, X_test, y_train, y_test = train_test_split(X,y, test_size=0.2)"
   ]
  },
  {
   "cell_type": "code",
   "execution_count": 133,
   "metadata": {},
   "outputs": [],
   "source": [
    "def models(X_train, y_train):\n",
    "  from sklearn.linear_model import LogisticRegression\n",
    "  log = LogisticRegression(random_state = 0)\n",
    "  log.fit(X_train,y_train)\n",
    "\n",
    "  from sklearn.tree import DecisionTreeClassifier\n",
    "  tree = DecisionTreeClassifier(criterion = 'entropy', random_state = 0)\n",
    "  tree.fit(X_train, y_train)\n",
    "\n",
    "  from sklearn.ensemble import RandomForestClassifier\n",
    "  forest = RandomForestClassifier(n_estimators =  10, criterion = 'entropy', random_state = 0)\n",
    "  forest.fit(X_train, y_train)\n",
    "\n",
    "\n",
    "  print(\"The accuracy of Logistic Regression\",log.score(X_train,y_train))\n",
    "  print(\"The accuracy of Decision Tree\",tree.score(X_train,y_train))\n",
    "  print(\"The accuracy of Random Forest \",forest.score(X_train,y_train))\n",
    "\n",
    "  return log,tree, forest "
   ]
  },
  {
   "cell_type": "code",
   "execution_count": 134,
   "metadata": {},
   "outputs": [
    {
     "name": "stdout",
     "output_type": "stream",
     "text": [
      "The accuracy of Logistic Regression 0.8769306891320773\n",
      "The accuracy of Decision Tree 0.9903880316015993\n",
      "The accuracy of Random Forest  0.9772818687160726\n"
     ]
    }
   ],
   "source": [
    "model = models(X_train , y_train)"
   ]
  },
  {
   "cell_type": "code",
   "execution_count": 135,
   "metadata": {},
   "outputs": [
    {
     "name": "stdout",
     "output_type": "stream",
     "text": [
      "Model: 0\n",
      "              precision    recall  f1-score   support\n",
      "\n",
      "           0       0.88      1.00      0.93   2018377\n",
      "           1       0.29      0.00      0.00    282583\n",
      "\n",
      "    accuracy                           0.88   2300960\n",
      "   macro avg       0.58      0.50      0.47   2300960\n",
      "weighted avg       0.81      0.88      0.82   2300960\n",
      "\n",
      "0.8771573604060914\n",
      "Model: 1\n",
      "              precision    recall  f1-score   support\n",
      "\n",
      "           0       0.91      0.91      0.91   2018377\n",
      "           1       0.33      0.32      0.32    282583\n",
      "\n",
      "    accuracy                           0.83   2300960\n",
      "   macro avg       0.62      0.61      0.61   2300960\n",
      "weighted avg       0.83      0.83      0.83   2300960\n",
      "\n",
      "0.8347011682080523\n",
      "Model: 2\n",
      "              precision    recall  f1-score   support\n",
      "\n",
      "           0       0.90      0.95      0.92   2018377\n",
      "           1       0.36      0.21      0.27    282583\n",
      "\n",
      "    accuracy                           0.86   2300960\n",
      "   macro avg       0.63      0.58      0.59   2300960\n",
      "weighted avg       0.83      0.86      0.84   2300960\n",
      "\n",
      "0.8574586259648147\n"
     ]
    }
   ],
   "source": [
    "from sklearn.metrics import classification_report\n",
    "from sklearn.metrics import accuracy_score\n",
    "\n",
    "for i in range(len(model)):\n",
    "  print('Model:', i)\n",
    "  print(classification_report(y_test, model[i].predict(X_test)))\n",
    "  print(accuracy_score(y_test, model[i].predict(X_test)))"
   ]
  },
  {
   "cell_type": "code",
   "execution_count": 137,
   "metadata": {},
   "outputs": [],
   "source": [
    "importances = model[1].feature_importances_\n",
    "\n",
    "# Select features with importance greater than a threshold\n",
    "threshold = 0.05  # Adjust as needed\n",
    "selected_features = X.columns[importances > threshold]"
   ]
  },
  {
   "cell_type": "code",
   "execution_count": 138,
   "metadata": {},
   "outputs": [
    {
     "data": {
      "text/plain": [
       "Index(['Age', 'Region_Code', 'Vehicle_Damage', 'Annual_Premium', 'Vintage'], dtype='object')"
      ]
     },
     "execution_count": 138,
     "metadata": {},
     "output_type": "execute_result"
    }
   ],
   "source": [
    "selected_features"
   ]
  },
  {
   "cell_type": "code",
   "execution_count": 140,
   "metadata": {},
   "outputs": [
    {
     "data": {
      "text/plain": [
       "array([0, 0, 0, ..., 0, 0, 0], dtype=int64)"
      ]
     },
     "execution_count": 140,
     "metadata": {},
     "output_type": "execute_result"
    }
   ],
   "source": [
    "submission_pred_n = model[0].predict(test)\n",
    "\n",
    "submission_pred_n"
   ]
  },
  {
   "cell_type": "code",
   "execution_count": 141,
   "metadata": {},
   "outputs": [],
   "source": [
    "df =pd.DataFrame({\"id\": test_id.values,\n",
    "                  \"Response\": submission_pred_n\n",
    "                  })\n",
    "\n",
    "df.to_csv(\"submission3.csv\", index = False)"
   ]
  },
  {
   "cell_type": "code",
   "execution_count": null,
   "metadata": {},
   "outputs": [],
   "source": []
  }
 ],
 "metadata": {
  "language_info": {
   "name": "python"
  }
 },
 "nbformat": 4,
 "nbformat_minor": 2
}
